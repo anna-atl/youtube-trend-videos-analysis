{
 "cells": [
  {
   "cell_type": "markdown",
   "metadata": {},
   "source": [
    "# Homework Atlasova (part 2)\n",
    "From the 1st HW some improvements were made.\n",
    "\n",
    "## Introduction\n",
    "We have a dataset of trending videos on Youtube in US.\n",
    "We need to notice that in the initial dataset one video could have appeared several times since one video could be on trend several days.\n",
    "Therefore, another table was created using SQLite with the data of videos on the first trending day and number of trending days. So now one video has only one row in the table with it's corresponding data on the first trending day (views, likes and etc\n",
    ") and number of trending days. This would help us to do the analysis more precisely."
   ]
  },
  {
   "cell_type": "markdown",
   "metadata": {},
   "source": [
    "Below is the code on Python with notes and corresponding graphs for the analysis.\n",
    "\n",
    "Let's first import libraries and make some configurations and data cleanup for further analysis."
   ]
  },
  {
   "cell_type": "code",
   "execution_count": 1,
   "metadata": {},
   "outputs": [],
   "source": [
    "import sqlite3\n",
    "import pandas as pd\n",
    "import numpy as np\n",
    "import matplotlib as mpl\n",
    "from matplotlib import pyplot as plt\n",
    "import seaborn as sns\n",
    "from mpl_toolkits.mplot3d import Axes3D\n",
    "from sklearn.cluster import KMeans\n",
    "import scipy.cluster.hierarchy as sch\n",
    "\n",
    "import datetime\n",
    "import wordcloud\n",
    "import json"
   ]
  },
  {
   "cell_type": "code",
   "execution_count": 2,
   "metadata": {},
   "outputs": [],
   "source": [
    "%config InlineBackend.figure_format = 'retina'\n",
    "%matplotlib inline\n",
    "pd.options.display.float_format = \"{:.2f}\".format"
   ]
  },
  {
   "cell_type": "code",
   "execution_count": 3,
   "metadata": {},
   "outputs": [],
   "source": [
    "plot_colors = [\"#d92027\", \"#ff9234\", \"#ffcd3c\", \"#35d0ba\"]"
   ]
  },
  {
   "cell_type": "code",
   "execution_count": 4,
   "metadata": {},
   "outputs": [],
   "source": [
    "# Create your connection.\n",
    "cnx = sqlite3.connect('youtubeus.db')\n",
    "df = pd.read_sql_query(\"SELECT * FROM video_first_trending_date\", cnx)"
   ]
  },
  {
   "cell_type": "markdown",
   "metadata": {},
   "source": [
    "## Univeriate analysis"
   ]
  },
  {
   "cell_type": "markdown",
   "metadata": {},
   "source": [
    "Let's create some useful columns for further analysis and see how the dataset looks like."
   ]
  },
  {
   "cell_type": "code",
   "execution_count": 5,
   "metadata": {},
   "outputs": [
    {
     "data": {
      "text/html": [
       "<div>\n",
       "<style scoped>\n",
       "    .dataframe tbody tr th:only-of-type {\n",
       "        vertical-align: middle;\n",
       "    }\n",
       "\n",
       "    .dataframe tbody tr th {\n",
       "        vertical-align: top;\n",
       "    }\n",
       "\n",
       "    .dataframe thead th {\n",
       "        text-align: right;\n",
       "    }\n",
       "</style>\n",
       "<table border=\"1\" class=\"dataframe\">\n",
       "  <thead>\n",
       "    <tr style=\"text-align: right;\">\n",
       "      <th></th>\n",
       "      <th>video_id</th>\n",
       "      <th>title</th>\n",
       "      <th>channel_title</th>\n",
       "      <th>category_id</th>\n",
       "      <th>publish_time</th>\n",
       "      <th>tags</th>\n",
       "      <th>views</th>\n",
       "      <th>likes</th>\n",
       "      <th>dislikes</th>\n",
       "      <th>comment_count</th>\n",
       "      <th>thumbnail_link</th>\n",
       "      <th>comments_disabled</th>\n",
       "      <th>ratings_disabled</th>\n",
       "      <th>video_error_or_removed</th>\n",
       "      <th>description</th>\n",
       "      <th>first_trending_date</th>\n",
       "      <th>number_trending_days</th>\n",
       "      <th>dislikes_likes_ratio</th>\n",
       "    </tr>\n",
       "  </thead>\n",
       "  <tbody>\n",
       "    <tr>\n",
       "      <th>0</th>\n",
       "      <td>-0CMnp02rNY</td>\n",
       "      <td>Mindy Kaling's Daughter Had the Perfect Reacti...</td>\n",
       "      <td>TheEllenShow</td>\n",
       "      <td>24</td>\n",
       "      <td>2018-06-04T13:00:00.000Z</td>\n",
       "      <td>ellen|ellen degeneres|the ellen show|ellentube...</td>\n",
       "      <td>475965</td>\n",
       "      <td>6531</td>\n",
       "      <td>172</td>\n",
       "      <td>271</td>\n",
       "      <td>https://i.ytimg.com/vi/-0CMnp02rNY/default.jpg</td>\n",
       "      <td>False</td>\n",
       "      <td>False</td>\n",
       "      <td>False</td>\n",
       "      <td>Ocean's 8 star Mindy Kaling dished on bringing...</td>\n",
       "      <td>18.06.06</td>\n",
       "      <td>6</td>\n",
       "      <td>2.63</td>\n",
       "    </tr>\n",
       "    <tr>\n",
       "      <th>1</th>\n",
       "      <td>-0NYY8cqdiQ</td>\n",
       "      <td>Megan Mullally Didn't Notice the Interesting P...</td>\n",
       "      <td>TheEllenShow</td>\n",
       "      <td>24</td>\n",
       "      <td>2018-01-29T14:00:39.000Z</td>\n",
       "      <td>megan mullally|megan|mullally|will and grace|k...</td>\n",
       "      <td>563746</td>\n",
       "      <td>4429</td>\n",
       "      <td>54</td>\n",
       "      <td>94</td>\n",
       "      <td>https://i.ytimg.com/vi/-0NYY8cqdiQ/default.jpg</td>\n",
       "      <td>False</td>\n",
       "      <td>False</td>\n",
       "      <td>False</td>\n",
       "      <td>Ellen and Megan Mullally have known each other...</td>\n",
       "      <td>18.01.02</td>\n",
       "      <td>1</td>\n",
       "      <td>1.22</td>\n",
       "    </tr>\n",
       "    <tr>\n",
       "      <th>2</th>\n",
       "      <td>-1Hm41N0dUs</td>\n",
       "      <td>Cast of Avengers: Infinity War Draws Their Cha...</td>\n",
       "      <td>Jimmy Kimmel Live</td>\n",
       "      <td>23</td>\n",
       "      <td>2018-04-27T07:30:02.000Z</td>\n",
       "      <td>jimmy|jimmy kimmel|jimmy kimmel live|late nigh...</td>\n",
       "      <td>2058516</td>\n",
       "      <td>41248</td>\n",
       "      <td>580</td>\n",
       "      <td>1484</td>\n",
       "      <td>https://i.ytimg.com/vi/-1Hm41N0dUs/default.jpg</td>\n",
       "      <td>False</td>\n",
       "      <td>False</td>\n",
       "      <td>False</td>\n",
       "      <td>Benedict Cumberbatch, Don Cheadle, Elizabeth O...</td>\n",
       "      <td>18.01.05</td>\n",
       "      <td>3</td>\n",
       "      <td>1.41</td>\n",
       "    </tr>\n",
       "    <tr>\n",
       "      <th>3</th>\n",
       "      <td>-1yT-K3c6YI</td>\n",
       "      <td>YOUTUBER QUIZ + TRUTH OR DARE W/ THE MERRELL T...</td>\n",
       "      <td>Molly Burke</td>\n",
       "      <td>22</td>\n",
       "      <td>2017-11-28T18:30:43.000Z</td>\n",
       "      <td>youtube quiz|youtuber quiz|truth or dare|expos...</td>\n",
       "      <td>218227</td>\n",
       "      <td>7407</td>\n",
       "      <td>209</td>\n",
       "      <td>831</td>\n",
       "      <td>https://i.ytimg.com/vi/-1yT-K3c6YI/default.jpg</td>\n",
       "      <td>False</td>\n",
       "      <td>False</td>\n",
       "      <td>False</td>\n",
       "      <td>Check out the video we did on the Merrell Twin...</td>\n",
       "      <td>17.01.12</td>\n",
       "      <td>4</td>\n",
       "      <td>2.82</td>\n",
       "    </tr>\n",
       "    <tr>\n",
       "      <th>4</th>\n",
       "      <td>-2RVw2_QyxQ</td>\n",
       "      <td>2017 Champions Showdown: Day 3</td>\n",
       "      <td>Saint Louis Chess Club</td>\n",
       "      <td>27</td>\n",
       "      <td>2017-11-12T02:39:01.000Z</td>\n",
       "      <td>Chess|Saint Louis|Club</td>\n",
       "      <td>67429</td>\n",
       "      <td>438</td>\n",
       "      <td>23</td>\n",
       "      <td>23</td>\n",
       "      <td>https://i.ytimg.com/vi/-2RVw2_QyxQ/default.jpg</td>\n",
       "      <td>False</td>\n",
       "      <td>False</td>\n",
       "      <td>False</td>\n",
       "      <td>The Saint Louis Chess Club hosts a series of f...</td>\n",
       "      <td>17.14.11</td>\n",
       "      <td>3</td>\n",
       "      <td>5.25</td>\n",
       "    </tr>\n",
       "  </tbody>\n",
       "</table>\n",
       "</div>"
      ],
      "text/plain": [
       "      video_id                                              title  \\\n",
       "0  -0CMnp02rNY  Mindy Kaling's Daughter Had the Perfect Reacti...   \n",
       "1  -0NYY8cqdiQ  Megan Mullally Didn't Notice the Interesting P...   \n",
       "2  -1Hm41N0dUs  Cast of Avengers: Infinity War Draws Their Cha...   \n",
       "3  -1yT-K3c6YI  YOUTUBER QUIZ + TRUTH OR DARE W/ THE MERRELL T...   \n",
       "4  -2RVw2_QyxQ                     2017 Champions Showdown: Day 3   \n",
       "\n",
       "            channel_title category_id              publish_time  \\\n",
       "0            TheEllenShow          24  2018-06-04T13:00:00.000Z   \n",
       "1            TheEllenShow          24  2018-01-29T14:00:39.000Z   \n",
       "2       Jimmy Kimmel Live          23  2018-04-27T07:30:02.000Z   \n",
       "3             Molly Burke          22  2017-11-28T18:30:43.000Z   \n",
       "4  Saint Louis Chess Club          27  2017-11-12T02:39:01.000Z   \n",
       "\n",
       "                                                tags    views  likes  \\\n",
       "0  ellen|ellen degeneres|the ellen show|ellentube...   475965   6531   \n",
       "1  megan mullally|megan|mullally|will and grace|k...   563746   4429   \n",
       "2  jimmy|jimmy kimmel|jimmy kimmel live|late nigh...  2058516  41248   \n",
       "3  youtube quiz|youtuber quiz|truth or dare|expos...   218227   7407   \n",
       "4                             Chess|Saint Louis|Club    67429    438   \n",
       "\n",
       "   dislikes  comment_count                                  thumbnail_link  \\\n",
       "0       172            271  https://i.ytimg.com/vi/-0CMnp02rNY/default.jpg   \n",
       "1        54             94  https://i.ytimg.com/vi/-0NYY8cqdiQ/default.jpg   \n",
       "2       580           1484  https://i.ytimg.com/vi/-1Hm41N0dUs/default.jpg   \n",
       "3       209            831  https://i.ytimg.com/vi/-1yT-K3c6YI/default.jpg   \n",
       "4        23             23  https://i.ytimg.com/vi/-2RVw2_QyxQ/default.jpg   \n",
       "\n",
       "  comments_disabled ratings_disabled video_error_or_removed  \\\n",
       "0             False            False                  False   \n",
       "1             False            False                  False   \n",
       "2             False            False                  False   \n",
       "3             False            False                  False   \n",
       "4             False            False                  False   \n",
       "\n",
       "                                         description first_trending_date  \\\n",
       "0  Ocean's 8 star Mindy Kaling dished on bringing...            18.06.06   \n",
       "1  Ellen and Megan Mullally have known each other...            18.01.02   \n",
       "2  Benedict Cumberbatch, Don Cheadle, Elizabeth O...            18.01.05   \n",
       "3  Check out the video we did on the Merrell Twin...            17.01.12   \n",
       "4  The Saint Louis Chess Club hosts a series of f...            17.14.11   \n",
       "\n",
       "   number_trending_days  dislikes_likes_ratio  \n",
       "0                     6                  2.63  \n",
       "1                     1                  1.22  \n",
       "2                     3                  1.41  \n",
       "3                     4                  2.82  \n",
       "4                     3                  5.25  "
      ]
     },
     "execution_count": 5,
     "metadata": {},
     "output_type": "execute_result"
    }
   ],
   "source": [
    "df[\"description\"] = df[\"description\"].fillna(value=\"\")\n",
    "df[\"dislikes_likes_ratio\"] = df[\"dislikes\"].div(df[\"likes\"])*100\n",
    "df = df.replace(np.inf, 1)\n",
    "df[\"dislikes_likes_ratio\"] = df[\"dislikes_likes_ratio\"].fillna(value=0)\n",
    "df.head()"
   ]
  },
  {
   "cell_type": "markdown",
   "metadata": {},
   "source": [
    "Let'see how many rows/columns we have."
   ]
  },
  {
   "cell_type": "code",
   "execution_count": 6,
   "metadata": {},
   "outputs": [
    {
     "data": {
      "text/plain": [
       "(6351, 18)"
      ]
     },
     "execution_count": 6,
     "metadata": {},
     "output_type": "execute_result"
    }
   ],
   "source": [
    "df.shape"
   ]
  },
  {
   "cell_type": "markdown",
   "metadata": {},
   "source": [
    "Therefore, we have 6351 videos in our dataset which were on trend. Videos have data in 18 columns:\n",
    "- video_id\n",
    "- trending_date\n",
    "title\n",
    "channel_title\n",
    "category_id\n",
    "publish_time\n",
    "tags\n",
    "views\n",
    "likes\n",
    "10 dislikes\n",
    "11 comment_count\n",
    "12 thumbnail_link\n",
    "13 comments_disabled\n",
    "14 ratings_disabled\n",
    "15 video_error_or_removed\n",
    "16 description"
   ]
  },
  {
   "cell_type": "markdown",
   "metadata": {},
   "source": [
    "### Outliers \n",
    "\n",
    "Let's make again some parts of the analysis but without outliers. \n",
    "\n",
    "Let's calculate D for numeric columns for further outliers detection."
   ]
  },
  {
   "cell_type": "code",
   "execution_count": 7,
   "metadata": {},
   "outputs": [
    {
     "name": "stdout",
     "output_type": "stream",
     "text": [
      "views                  777317.50\n",
      "likes                   25913.00\n",
      "dislikes                  823.50\n",
      "comment_count            2745.50\n",
      "number_trending_days        5.00\n",
      "dislikes_likes_ratio        5.97\n",
      "dtype: float64\n"
     ]
    }
   ],
   "source": [
    "Q1 = df.quantile(0.25)\n",
    "Q3 = df.quantile(0.75)\n",
    "D = Q3 - Q1\n",
    "print(D)"
   ]
  },
  {
   "cell_type": "markdown",
   "metadata": {},
   "source": [
    "By using the formulas (Q3 +- 3 * D), let's identify severe outliers for views and likes."
   ]
  },
  {
   "cell_type": "code",
   "execution_count": null,
   "metadata": {},
   "outputs": [],
   "source": [
    "#print(Q1['views'])\n",
    "df = df[(df['views'] > (Q1['views'] - 3 * D['views']))&(df['views'] < (Q3['views'] + 3 * D['views']))]\n",
    "#df = df[(df['likes'] > (Q1['likes'] - 3 * D['likes']))&(df['likes'] < (Q3['likes'] + 3 * D['likes']))]\n",
    "#df_new = df_new[(df_new['dislikes'] > (Q1['dislikes'] - 1.5 * D['dislikes']))&(df['dislikes'] < (Q3['dislikes'] + 1.5 * D['dislikes']))]\n",
    "#df_new = df_new[(df_new['views'] > (Q1['views'] - 1.5 * D['views']))&(df['views'] < (Q3['views'] + 1.5 * D['views']))]\n"
   ]
  },
  {
   "cell_type": "code",
   "execution_count": null,
   "metadata": {},
   "outputs": [],
   "source": [
    "from sklearn import preprocessing\n",
    "\n",
    "x = df[['views','likes','dislikes']].values #returns a numpy array\n",
    "min_max_scaler = preprocessing.MinMaxScaler()\n",
    "x_scaled = min_max_scaler.fit_transform(x)\n",
    "df[['views','likes','dislikes']] = pd.DataFrame(x_scaled)\n",
    "df.head()"
   ]
  },
  {
   "cell_type": "markdown",
   "metadata": {},
   "source": [
    "### Describtion of numerical columns\n",
    "Let's see statistical information about the numerical values."
   ]
  },
  {
   "cell_type": "code",
   "execution_count": null,
   "metadata": {},
   "outputs": [],
   "source": [
    "df.describe()"
   ]
  },
  {
   "cell_type": "markdown",
   "metadata": {},
   "source": [
    "### Describtion of non-numerical columns\n",
    "Let's see information about the non-numerical values."
   ]
  },
  {
   "cell_type": "code",
   "execution_count": null,
   "metadata": {},
   "outputs": [],
   "source": [
    "df.describe(include = ['O'])"
   ]
  },
  {
   "cell_type": "markdown",
   "metadata": {},
   "source": [
    "## Bivariate Analysis\n",
    "\n",
    "Let's see the scatter plots and histograms of all the variables."
   ]
  },
  {
   "cell_type": "code",
   "execution_count": null,
   "metadata": {},
   "outputs": [],
   "source": [
    "sns.pairplot(df)\n",
    "plt.title('Pairplot for the Data', fontsize = 20)\n",
    "plt.show()"
   ]
  },
  {
   "cell_type": "markdown",
   "metadata": {},
   "source": [
    "Now let's look at the correlations coefficients."
   ]
  },
  {
   "cell_type": "code",
   "execution_count": null,
   "metadata": {},
   "outputs": [],
   "source": [
    "df.corr()"
   ]
  },
  {
   "cell_type": "markdown",
   "metadata": {},
   "source": [
    "Let's make a heatmap of the correlation"
   ]
  },
  {
   "cell_type": "code",
   "execution_count": null,
   "metadata": {},
   "outputs": [],
   "source": [
    "h_labels = [x.replace('_', ' ').title() for x in\n",
    "            list(df.select_dtypes(include=['number', 'bool']).columns.values)]\n",
    "fig, ax = plt.subplots(figsize=(10,6))\n",
    "_ = sns.heatmap(df.corr(), annot=True, xticklabels=h_labels, yticklabels=h_labels, cmap=sns.cubehelix_palette(as_cmap=True), ax=ax)"
   ]
  },
  {
   "cell_type": "markdown",
   "metadata": {},
   "source": [
    "We can see that likes/views are still correlated. Likes and comment count are not that correlated anymore. Correlation of the dislikes and dislikes/likes ratio is not relevant.\n",
    "\n",
    "Let's have a closer look to the likes/views correlation via a scatter plot."
   ]
  },
  {
   "cell_type": "code",
   "execution_count": null,
   "metadata": {},
   "outputs": [],
   "source": [
    "fig, ax = plt.subplots()\n",
    "_ = plt.scatter(x=df['views'], y=df['likes'], color=plot_colors[0], edgecolors=\"#000000\", linewidths=0.5)\n",
    "_ = ax.set(xlabel=\"views\", ylabel=\"likes\")"
   ]
  },
  {
   "cell_type": "markdown",
   "metadata": {},
   "source": [
    "## Cluster Analysis"
   ]
  },
  {
   "cell_type": "markdown",
   "metadata": {},
   "source": [
    "### Hierarchical Clustering\n",
    "Let's make a hierarchical clustering for views."
   ]
  },
  {
   "cell_type": "code",
   "execution_count": null,
   "metadata": {},
   "outputs": [],
   "source": [
    "dendrogram = sch.dendrogram(sch.linkage(df[['views']], method = 'ward'))\n",
    "plt.title('Dendrogam')\n",
    "plt.xlabel('views')\n",
    "plt.ylabel('Ecuclidean Distance')"
   ]
  },
  {
   "cell_type": "markdown",
   "metadata": {},
   "source": [
    "Let's make a hierarchical clustering for likes."
   ]
  },
  {
   "cell_type": "code",
   "execution_count": null,
   "metadata": {},
   "outputs": [],
   "source": [
    "dendrogram = sch.dendrogram(sch.linkage(df[['likes']], method = 'ward'))\n",
    "plt.title('Dendrogam')\n",
    "plt.xlabel('likes')\n",
    "plt.ylabel('Ecuclidean Distance')"
   ]
  },
  {
   "cell_type": "markdown",
   "metadata": {},
   "source": [
    "### K-Means\n",
    "\n",
    "Let's find clusters for the number of trending dates and dislikes/likes ratio values.\n",
    "\n",
    "First, let's make the Elbow Method to find the number of optimal clusters."
   ]
  },
  {
   "cell_type": "code",
   "execution_count": null,
   "metadata": {},
   "outputs": [],
   "source": [
    "x = df[['number_trending_days','dislikes_likes_ratio']]\n",
    "wcss = []\n",
    "for i in range(1, 11):\n",
    "    km = KMeans(n_clusters = i, init = 'k-means++', max_iter = 300, n_init = 10, random_state = 0)\n",
    "    km.fit(x)\n",
    "    wcss.append(km.inertia_)\n",
    "    \n",
    "plt.plot(range(1, 11), wcss)\n",
    "plt.title('The Elbow Method')\n",
    "plt.xlabel('number of clusters')\n",
    "plt.ylabel('wcss')"
   ]
  },
  {
   "cell_type": "markdown",
   "metadata": {},
   "source": [
    "Let's choose 3 as number of clusters."
   ]
  },
  {
   "cell_type": "code",
   "execution_count": null,
   "metadata": {},
   "outputs": [],
   "source": [
    "y_means = KMeans(n_clusters = 3, init = 'k-means++', max_iter=300, random_state = 0).fit_predict(x)\n",
    "plt.scatter(x['number_trending_days'], x['dislikes_likes_ratio'], c = y_means, s = 50, alpha=0.5, edgecolors=\"#000000\", linewidths=0.5)\n",
    "plt.title('Clusters')\n",
    "plt.xlabel('number_trending_days')\n",
    "plt.ylabel('dislikes_likes_ratio')"
   ]
  },
  {
   "cell_type": "markdown",
   "metadata": {},
   "source": [
    "We can say that:\n",
    "- 1 cluster is \"negative\" videos which have a high dislikes/likes ratio and which are on trend not so many days,\n",
    "- 2 cluster is \"contreversial\" videos which have a medium dislikes/likes ratio which can be on trend up to approximately 15 days,\n",
    "- 3 cluster is \"positive\" videos which have a low dislikes/likes ratio which can have low and high number of trending days."
   ]
  },
  {
   "cell_type": "code",
   "execution_count": null,
   "metadata": {},
   "outputs": [],
   "source": [
    "x = df[['views','comment_count']]\n",
    "wcss = []\n",
    "for i in range(1, 11):\n",
    "    km = KMeans(n_clusters = i, init = 'k-means++', max_iter = 300, n_init = 10, random_state = 0)\n",
    "    km.fit(x)\n",
    "    wcss.append(km.inertia_)\n",
    "    \n",
    "plt.plot(range(1, 11), wcss)\n",
    "plt.title('The Elbow Method')\n",
    "plt.xlabel('number of clusters')\n",
    "plt.ylabel('wcss')"
   ]
  },
  {
   "cell_type": "markdown",
   "metadata": {},
   "source": [
    "Let's choose 3 as number of clusters."
   ]
  },
  {
   "cell_type": "code",
   "execution_count": null,
   "metadata": {},
   "outputs": [],
   "source": [
    "y_means = KMeans(n_clusters = 3, init = 'k-means++', max_iter=300, random_state = 0).fit_predict(x)\n",
    "plt.scatter(x['views'], x['comment_count'], c = y_means, s = 50, alpha=0.5, edgecolors=\"#000000\", linewidths=0.5)\n",
    "plt.title('Clusters')\n",
    "plt.xlabel('views')\n",
    "plt.ylabel('comment_count')"
   ]
  },
  {
   "cell_type": "markdown",
   "metadata": {},
   "source": [
    "We can say that:\n",
    "- 1 cluster is \"negative\" videos which have a high dislikes/likes ratio and which are on trend not so many days,\n",
    "- 2 cluster is \"contreversial\" videos which have a medium dislikes/likes ratio which can be on trend up to approximately 15 days,\n",
    "- 3 cluster is \"positive\" videos which have a low dislikes/likes ratio which can have low and high number of trending days."
   ]
  },
  {
   "cell_type": "code",
   "execution_count": null,
   "metadata": {},
   "outputs": [],
   "source": [
    "x = df[['views','likes']]\n",
    "wcss = []\n",
    "for i in range(1, 11):\n",
    "    km = KMeans(n_clusters = i, init = 'k-means++', max_iter = 300, n_init = 10, random_state = 0)\n",
    "    km.fit(x)\n",
    "    wcss.append(km.inertia_)\n",
    "    \n",
    "plt.plot(range(1, 11), wcss)\n",
    "plt.title('The Elbow Method')\n",
    "plt.xlabel('number of clusters')\n",
    "plt.ylabel('wcss')"
   ]
  },
  {
   "cell_type": "markdown",
   "metadata": {},
   "source": [
    "Let's choose 3 as number of clusters."
   ]
  },
  {
   "cell_type": "code",
   "execution_count": null,
   "metadata": {},
   "outputs": [],
   "source": [
    "y_means = KMeans(n_clusters = 3, init = 'k-means++', max_iter=300, random_state = 0).fit_predict(x)\n",
    "plt.scatter(x['views'], x['likes'], c = y_means, s = 50, alpha=0.5, edgecolors=\"#000000\", linewidths=0.5)\n",
    "plt.title('Clusters')\n",
    "plt.xlabel('views')\n",
    "plt.ylabel('likes')"
   ]
  },
  {
   "cell_type": "markdown",
   "metadata": {},
   "source": [
    "We can say that:\n",
    "- 1 cluster is \"negative\" videos which have a high dislikes/likes ratio and which are on trend not so many days,\n",
    "- 2 cluster is \"contreversial\" videos which have a medium dislikes/likes ratio which can be on trend up to approximately 15 days,\n",
    "- 3 cluster is \"positive\" videos which have a low dislikes/likes ratio which can have low and high number of trending days."
   ]
  },
  {
   "cell_type": "markdown",
   "metadata": {},
   "source": [
    "Let's find 3 dimensional clusters.\n",
    "\n",
    "First, for views/likes/dislikes."
   ]
  },
  {
   "cell_type": "code",
   "execution_count": null,
   "metadata": {},
   "outputs": [],
   "source": [
    "x = df[['views', 'likes', 'dislikes']]\n",
    "\n",
    "wcss = []\n",
    "for i in range(1,11):\n",
    "    model = KMeans(n_clusters = i,init = 'k-means++')\n",
    "    model.fit(x)\n",
    "    wcss.append(model.inertia_)\n",
    "    \n",
    "plt.plot(range(1,11), wcss)\n",
    "plt.xlabel(\"number of clusters\")\n",
    "plt.ylabel(\"wcss\")\n",
    "plt.show()"
   ]
  },
  {
   "cell_type": "markdown",
   "metadata": {},
   "source": [
    "Let's choose 3 as number of clusters."
   ]
  },
  {
   "cell_type": "code",
   "execution_count": null,
   "metadata": {},
   "outputs": [],
   "source": [
    "model = KMeans(n_clusters = 5, init = \"k-means++\", max_iter = 300, n_init = 10, random_state = 0)\n",
    "y_clusters = model.fit_predict(x)"
   ]
  },
  {
   "cell_type": "code",
   "execution_count": null,
   "metadata": {},
   "outputs": [],
   "source": [
    "sns.countplot(y_clusters)"
   ]
  },
  {
   "cell_type": "code",
   "execution_count": null,
   "metadata": {},
   "outputs": [],
   "source": [
    "fig = plt.figure(figsize = (15,15))\n",
    "ax = fig.add_subplot(111, projection='3d')\n",
    "\n",
    "ax.scatter(x['views'],x['likes'],x['dislikes'], s = 40 , c = y_clusters)\n",
    "ax.set_xlabel('views')\n",
    "ax.set_ylabel('likes')\n",
    "ax.set_zlabel('dislikes')\n"
   ]
  },
  {
   "cell_type": "markdown",
   "metadata": {},
   "source": [
    "Now for views/dislikes_likes_ratio/number_trending_days"
   ]
  },
  {
   "cell_type": "code",
   "execution_count": null,
   "metadata": {},
   "outputs": [],
   "source": [
    "x = df[['views', 'dislikes_likes_ratio', 'number_trending_days']]\n",
    "\n",
    "wcss = []\n",
    "for i in range(1,11):\n",
    "    model = KMeans(n_clusters = i,init = 'k-means++')\n",
    "    model.fit(x)\n",
    "    wcss.append(model.inertia_)\n",
    "    \n",
    "plt.plot(range(1,11), wcss)\n",
    "plt.xlabel(\"number of clusters\")\n",
    "plt.ylabel(\"wcss\")\n",
    "plt.show()"
   ]
  },
  {
   "cell_type": "markdown",
   "metadata": {},
   "source": [
    "Let's choose 5 as number of clusters."
   ]
  },
  {
   "cell_type": "code",
   "execution_count": null,
   "metadata": {},
   "outputs": [],
   "source": [
    "model = KMeans(n_clusters = 5, init = \"k-means++\", max_iter = 300, n_init = 10, random_state = 0)\n",
    "y_clusters = model.fit_predict(x)"
   ]
  },
  {
   "cell_type": "code",
   "execution_count": null,
   "metadata": {},
   "outputs": [],
   "source": [
    "sns.countplot(y_clusters)"
   ]
  },
  {
   "cell_type": "code",
   "execution_count": null,
   "metadata": {},
   "outputs": [],
   "source": [
    "fig = plt.figure(figsize = (15,15))\n",
    "ax = fig.add_subplot(111, projection='3d')\n",
    "\n",
    "ax.scatter(x['views'],x['dislikes_likes_ratio'],x['number_trending_days'], s = 40 , c = y_clusters)\n",
    "ax.set_xlabel('views')\n",
    "ax.set_ylabel('dislikes_likes_ratio')\n",
    "ax.set_zlabel('number_trending_days')\n"
   ]
  },
  {
   "cell_type": "code",
   "execution_count": null,
   "metadata": {},
   "outputs": [],
   "source": []
  },
  {
   "cell_type": "code",
   "execution_count": null,
   "metadata": {},
   "outputs": [],
   "source": [
    "fig, axs = plt.subplots(2, 2, figsize=(10, 10))\n",
    "fig.suptitle('Likes scatter plots', fontsize=16)\n",
    "axs[0,0].scatter(df['views'], df['likes'], s = 30, color=plot_colors[0], edgecolors=\"#000000\", linewidths=0.5)\n",
    "axs[0,0].set(xlabel=\"views\", ylabel=\"likes\")\n",
    "axs[0,0].set_title(\"df\")"
   ]
  },
  {
   "cell_type": "code",
   "execution_count": null,
   "metadata": {},
   "outputs": [],
   "source": []
  },
  {
   "cell_type": "code",
   "execution_count": null,
   "metadata": {},
   "outputs": [],
   "source": [
    "#assigning number of plots\n",
    "k = 3\n",
    "\n",
    "fig, ax = plt.subplots(1, k, sharex='col', sharey='row')\n",
    "\n",
    "_ = sns.distplot(df[\"views\"], kde=False, color=plot_colors[3], hist_kws={'alpha': 1}, bins=np.linspace(0, 2.3e8, 47), ax = ax[0])\n",
    "_ = ax[0].set(xlabel=\"views\", ylabel=\"#\", xticks=np.arange(0, 2.4e8, 1e7))\n",
    "_ = ax[0].set_xlim(right=2.5e8)\n",
    "_ = plt.xticks(rotation=90)\n",
    "j = 1\n",
    "    "
   ]
  },
  {
   "cell_type": "code",
   "execution_count": null,
   "metadata": {},
   "outputs": [],
   "source": [
    "fig, ax = plt.subplots()\n",
    "_ = sns.distplot(df[\"views\"], kde=False, color=plot_colors[3],\n",
    "                 hist_kws={'alpha': 1}, bins=np.linspace(0, 2.3e8, 47), ax=ax)\n",
    "_ = ax.set(xlabel=\"views\", ylabel=\"#\", xticks=np.arange(0, 2.4e8, 1e7))\n",
    "_ = ax.set_xlim(right=2.5e8)\n",
    "_ = plt.xticks(rotation=90)"
   ]
  },
  {
   "cell_type": "code",
   "execution_count": 8,
   "metadata": {},
   "outputs": [
    {
     "ename": "NameError",
     "evalue": "name 'PLOT_COLORS' is not defined",
     "output_type": "error",
     "traceback": [
      "\u001b[0;31m---------------------------------------------------------------------------\u001b[0m",
      "\u001b[0;31mNameError\u001b[0m                                 Traceback (most recent call last)",
      "\u001b[0;32m<ipython-input-8-cd64c1b5602c>\u001b[0m in \u001b[0;36m<module>\u001b[0;34m\u001b[0m\n\u001b[1;32m      1\u001b[0m \u001b[0mfig\u001b[0m\u001b[0;34m,\u001b[0m \u001b[0max\u001b[0m \u001b[0;34m=\u001b[0m \u001b[0mplt\u001b[0m\u001b[0;34m.\u001b[0m\u001b[0msubplots\u001b[0m\u001b[0;34m(\u001b[0m\u001b[0;34m)\u001b[0m\u001b[0;34m\u001b[0m\u001b[0;34m\u001b[0m\u001b[0m\n\u001b[1;32m      2\u001b[0m _ = sns.distplot(df[df[\"views\"] < 25e6][\"views\"], kde=False,\n\u001b[0;32m----> 3\u001b[0;31m                  color=PLOT_COLORS[4], hist_kws={'alpha': 1}, ax=ax)\n\u001b[0m\u001b[1;32m      4\u001b[0m \u001b[0m_\u001b[0m \u001b[0;34m=\u001b[0m \u001b[0max\u001b[0m\u001b[0;34m.\u001b[0m\u001b[0mset\u001b[0m\u001b[0;34m(\u001b[0m\u001b[0mxlabel\u001b[0m\u001b[0;34m=\u001b[0m\u001b[0;34m\"Views\"\u001b[0m\u001b[0;34m,\u001b[0m \u001b[0mylabel\u001b[0m\u001b[0;34m=\u001b[0m\u001b[0;34m\"No. of videos\"\u001b[0m\u001b[0;34m)\u001b[0m\u001b[0;34m\u001b[0m\u001b[0;34m\u001b[0m\u001b[0m\n",
      "\u001b[0;31mNameError\u001b[0m: name 'PLOT_COLORS' is not defined"
     ]
    },
    {
     "data": {
      "image/png": "[encoded data removed]",
      "text/plain": [
       "<Figure size 432x288 with 1 Axes>"
      ]
     },
     "metadata": {
      "image/png": {
       "height": 252,
       "width": 380
      },
      "needs_background": "light"
     },
     "output_type": "display_data"
    }
   ],
   "source": [
    "fig, ax = plt.subplots()\n",
    "_ = sns.distplot(df[df[\"views\"] < 25e6][\"views\"], kde=False,\n",
    "                 color=PLOT_COLORS[4], hist_kws={'alpha': 1}, ax=ax)\n",
    "_ = ax.set(xlabel=\"Views\", ylabel=\"No. of videos\")"
   ]
  },
  {
   "cell_type": "code",
   "execution_count": null,
   "metadata": {},
   "outputs": [],
   "source": [
    "fig, ax = plt.subplots()\n",
    "_ = ax.scatter(x=df['views'], y=df['category_id'], color=plot_colors[1], edgecolors=\"#000000\", linewidths=0.5)\n",
    "_ = ax.set(xlabel=\"Views\", ylabel=\"category_id\")"
   ]
  },
  {
   "cell_type": "code",
   "execution_count": null,
   "metadata": {},
   "outputs": [],
   "source": [
    "fig, ax = plt.subplots()\n",
    "_ = plt.scatter(x=df['views'], y=df['likes'], color=plot_colors[3], edgecolors=\"#000000\", linewidths=0.5)\n",
    "_ = ax.set(xlabel=\"Views\", ylabel=\"Likes\")"
   ]
  },
  {
   "cell_type": "code",
   "execution_count": null,
   "metadata": {},
   "outputs": [],
   "source": [
    "x = df[['views', 'likes', 'dislikes']]\n",
    "fig = plt.figure(figsize = (15,15))\n",
    "ax = fig.add_subplot(111, projection='3d')\n",
    "km = KMeans(n_clusters = 4, init = 'k-means++', max_iter=300, random_state = 0)\n",
    "km.fit(x)\n",
    "y_means = km.predict(x)\n",
    "\n",
    "ax.scatter(x['views'],x['likes'],x['dislikes'], s = 40 , color = 'blue', label = \"cluster 0\")\n",
    "\n",
    "#ax.scatter(x[[y_clusters == 0,0]],x[y_clusters == 0,1],x[y_clusters == 0,2], s = 40 , color = 'blue', label = \"cluster 0\")\n",
    "#ax.scatter(x[y_clusters == 1,0],x[y_clusters == 1,1],x[y_clusters == 1,2], s = 40 , color = 'orange', label = \"cluster 1\")\n",
    "#ax.scatter(x[y_clusters == 2,0],x[y_clusters == 2,1],x[y_clusters == 2,2], s = 40 , color = 'green', label = \"cluster 2\")\n",
    "#ax.scatter(x[y_clusters == 3,0],x[y_clusters == 3,1],x[y_clusters == 3,2], s = 40 , color = '#D12B60', label = \"cluster 3\")\n",
    "#ax.scatter(x[y_clusters == 4,0],x[y_clusters == 4,1],x[y_clusters == 4,2], s = 40 , color = 'purple', label = \"cluster 4\")\n",
    "ax.set_xlabel('views')\n",
    "ax.set_ylabel('likes')\n",
    "ax.set_zlabel('dislikes')\n",
    "ax.legend()\n",
    "plt.show()"
   ]
  },
  {
   "cell_type": "code",
   "execution_count": null,
   "metadata": {},
   "outputs": [],
   "source": [
    "x = df[['views', 'dislikes_likes_ratio', 'number_trending_days']].values\n",
    "km = KMeans(n_clusters = 5, init = 'k-means++', max_iter = 300, n_init = 10, random_state = 0)\n",
    "km.fit(x)\n",
    "labels = km.labels_\n",
    "centroids = km.cluster_centers_"
   ]
  },
  {
   "cell_type": "code",
   "execution_count": null,
   "metadata": {},
   "outputs": [],
   "source": [
    "#data['labels'] =  labels\n",
    "import plotly.graph_objs as go\n",
    "trace1 = go.Scatter3d(\n",
    "    x= df['views'],\n",
    "    y= df['dislikes_likes_ratio'],\n",
    "    z= df['number_trending_days'],\n",
    "    mode='markers',\n",
    "     marker=dict(\n",
    "        size= 10,\n",
    "        line=dict(\n",
    "            width= 12\n",
    "        ),\n",
    "        opacity=0.8\n",
    "     )\n",
    ")\n",
    "a = [trace1]\n",
    "\n",
    "layout = go.Layout(\n",
    "    title = 'Character vs Gender vs Alive or not',\n",
    "    margin=dict(\n",
    "        l=0,\n",
    "        r=0,\n",
    "        b=0,\n",
    "        t=0  \n",
    "    ),\n",
    "    scene = dict(\n",
    "            xaxis = dict(title  = 'Age'),\n",
    "            yaxis = dict(title  = 'Spending Score'),\n",
    "            zaxis = dict(title  = 'Annual Income')\n",
    "        )\n",
    ")\n",
    "\n",
    "fig = go.Figure(data = a, layout = layout)\n",
    "py.iplot(fig)"
   ]
  },
  {
   "cell_type": "code",
   "execution_count": null,
   "metadata": {},
   "outputs": [],
   "source": [
    "x = df[['number_trending_days','dislikes_likes_ratio']]\n",
    "x"
   ]
  },
  {
   "cell_type": "code",
   "execution_count": null,
   "metadata": {},
   "outputs": [],
   "source": [
    "wcss = []\n",
    "for i in range(1, 11):\n",
    "    km = KMeans(n_clusters = i, init = 'k-means++', max_iter = 300, n_init = 10, random_state = 0)\n",
    "    km.fit(x)\n",
    "    wcss.append(km.inertia_)\n",
    "    \n",
    "plt.plot(range(1, 11), wcss)\n",
    "plt.title('The Elbow Method', fontsize = 20)\n",
    "plt.xlabel('No. of Clusters')\n",
    "plt.ylabel('wcss')\n",
    "plt.show()"
   ]
  },
  {
   "cell_type": "code",
   "execution_count": null,
   "metadata": {},
   "outputs": [],
   "source": [
    "km = KMeans(n_clusters = 4, init = 'k-means++', max_iter=300, random_state = 0)\n",
    "km.fit(x)\n",
    "y_means = km.predict(x)\n",
    "plt.scatter(x['views'], x['dislikes_likes_ratio'], c = y_means, s = 50, alpha=0.5)"
   ]
  },
  {
   "cell_type": "code",
   "execution_count": null,
   "metadata": {},
   "outputs": [],
   "source": [
    "x = df[['likes','dislikes']]\n",
    "x"
   ]
  },
  {
   "cell_type": "code",
   "execution_count": null,
   "metadata": {},
   "outputs": [],
   "source": [
    "wcss = []\n",
    "for i in range(1, 11):\n",
    "    km = KMeans(n_clusters = i, init = 'k-means++', max_iter = 300, n_init = 10, random_state = 0)\n",
    "    km.fit(x)\n",
    "    wcss.append(km.inertia_)\n",
    "    \n",
    "plt.plot(range(1, 11), wcss)\n",
    "plt.title('The Elbow Method', fontsize = 20)\n",
    "plt.xlabel('No. of Clusters')\n",
    "plt.ylabel('wcss')\n",
    "plt.show()"
   ]
  },
  {
   "cell_type": "code",
   "execution_count": null,
   "metadata": {},
   "outputs": [],
   "source": [
    "km = KMeans(n_clusters = 4, init = 'k-means++', max_iter=300, random_state = 0)\n",
    "km.fit(x)\n",
    "y_means = km.predict(x)\n",
    "plt.scatter(x['likes'], x['dislikes'], c = y_means, s = 50, alpha=0.5)"
   ]
  },
  {
   "cell_type": "code",
   "execution_count": null,
   "metadata": {},
   "outputs": [],
   "source": [
    "fig = plt.figure(figsize=(5, 5))\n",
    "\n",
    "labels = km.predict(x)\n",
    "centroids = km.cluster_centers_\n",
    "\n",
    "plt.scatter(x['views'], x['number_trending_days'], s = 100, c = 'pink', label = 'miser')\n",
    "\n",
    "plt.scatter(km.cluster_centers_[:,0], km.cluster_centers_[:, 1], s = 50, c = 'blue' , label = 'centeroid')"
   ]
  },
  {
   "cell_type": "code",
   "execution_count": null,
   "metadata": {},
   "outputs": [],
   "source": [
    "\n",
    "plt.scatter(x[y_means == 1, 0], x[y_means == 1, 1], s = 100, c = 'yellow', label = 'general')\n",
    "plt.scatter(x[y_means == 2, 0], x[y_means == 2, 1], s = 100, c = 'cyan', label = 'target')\n",
    "plt.scatter(x[y_means == 3, 0], x[y_means == 3, 1], s = 100, c = 'magenta', label = 'spendthrift')\n",
    "plt.scatter(x[y_means == 4, 0], x[y_means == 4, 1], s = 100, c = 'orange', label = 'careful')\n",
    "plt.scatter(km.cluster_centers_[:,0], km.cluster_centers_[:, 1], s = 50, c = 'blue' , label = 'centeroid')"
   ]
  },
  {
   "cell_type": "code",
   "execution_count": null,
   "metadata": {},
   "outputs": [],
   "source": [
    "pd.options.display.float_format = '{:.2f}'.format\n",
    "sns.set(style=\"ticks\")\n",
    "plt.rc('figure', figsize=(8, 5), dpi=100)\n",
    "plt.rc('axes', labelpad=20, facecolor=\"#ffffff\", linewidth=0.4, grid=True, labelsize=14)\n",
    "plt.rc('patch', linewidth=0)\n",
    "plt.rc('xtick.major', width=0.2)\n",
    "plt.rc('ytick.major', width=0.2)\n",
    "plt.rc('grid', color='#9E9E9E', linewidth=0.4)\n",
    "plt.rc('font', family='Arial', weight='400', size=10)\n",
    "plt.rc('text', color='#282828')\n",
    "plt.rc('savefig', pad_inches=0.3, dpi=300)"
   ]
  }
 ],
 "metadata": {
  "kernelspec": {
   "display_name": "Python 3",
   "language": "python",
   "name": "python3"
  },
  "language_info": {
   "codemirror_mode": {
    "name": "ipython",
    "version": 3
   },
   "file_extension": ".py",
   "mimetype": "text/x-python",
   "name": "python",
   "nbconvert_exporter": "python",
   "pygments_lexer": "ipython3",
   "version": "3.7.2"
  }
 },
 "nbformat": 4,
 "nbformat_minor": 2
}
